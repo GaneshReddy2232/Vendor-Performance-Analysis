{
 "cells": [
  {
   "cell_type": "code",
   "execution_count": 29,
   "id": "e5a7e165-a85e-41e1-961a-2171ceacbf2d",
   "metadata": {},
   "outputs": [],
   "source": [
    "import pandas as pd\n",
    "import os\n",
    "from sqlalchemy import create_engine\n",
    "import logging\n",
    "import time\n",
    "\n",
    "\n",
    "\n",
    "logging.basicConfig(\n",
    "    filename=\"logs/ingestion_db.log\",\n",
    "    level=logging.DEBUG,\n",
    "    format=\"%(asctime)s - %(levelname)s - %(message)s\",\n",
    "    filemode = \"a\"\n",
    ")\n",
    "\n",
    "engine = create_engine('sqlite:///inventory.db')\n",
    "\n",
    "def ingest_db(df,table_name,engine):\n",
    "    ''' this function will ingest the dataframe into the database table'''\n",
    "    df.to_sql(\n",
    "    table_name,\n",
    "    con=engine,\n",
    "    if_exists='replace',\n",
    "    index=False,\n",
    "    chunksize=20,\n",
    "    method=None\n",
    ")\n",
    "\n",
    "def load_raw_data():\n",
    "    '''this funtion load the csv as dataframe and ingest into database'''\n",
    "    start = time.time()\n",
    "    for file in os.listdir('vendor analysis files'):\n",
    "        if '.csv' in file:\n",
    "            df = pd.read_csv('vendor analysis files/'+ file)\n",
    "            logging.info(f'Ingesting {file} in db')\n",
    "            ingest_db(df,file[:-4],engine)\n",
    "    end = time.time()\n",
    "    total_time = (end - start)/60\n",
    "    logging.info('Ingestion Completed')\n",
    "    logging.info(f'Total Time Taken is {total_time} minutes')\n",
    "\n",
    "if __name__ == '__main__':\n",
    "    load_raw_data()"
   ]
  },
  {
   "cell_type": "code",
   "execution_count": null,
   "id": "31710844-c861-4761-a7e0-ac4767731c51",
   "metadata": {},
   "outputs": [],
   "source": []
  }
 ],
 "metadata": {
  "kernelspec": {
   "display_name": "Python 3 (ipykernel)",
   "language": "python",
   "name": "python3"
  },
  "language_info": {
   "codemirror_mode": {
    "name": "ipython",
    "version": 3
   },
   "file_extension": ".py",
   "mimetype": "text/x-python",
   "name": "python",
   "nbconvert_exporter": "python",
   "pygments_lexer": "ipython3",
   "version": "3.12.10"
  }
 },
 "nbformat": 4,
 "nbformat_minor": 5
}
